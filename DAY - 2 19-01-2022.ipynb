{
 "cells": [
  {
   "cell_type": "code",
   "execution_count": 8,
   "metadata": {},
   "outputs": [
    {
     "name": "stdout",
     "output_type": "stream",
     "text": [
      "1*4*7*"
     ]
    }
   ],
   "source": [
    "for i in range(1,10,3):\n",
    "    print(i,end=\"*\")"
   ]
  },
  {
   "cell_type": "code",
   "execution_count": 18,
   "metadata": {
    "scrolled": true
   },
   "outputs": [
    {
     "name": "stdout",
     "output_type": "stream",
     "text": [
      "Enter starting point:12\n",
      "Enter stopping point:45\n",
      "15\n",
      "20\n",
      "25\n",
      "30\n",
      "35\n",
      "40\n",
      "45\n"
     ]
    }
   ],
   "source": [
    "n = int(input(\"Enter starting point:\"))\n",
    "n2 = int(input(\"Enter stopping point:\"))\n",
    "for i in range(n,n2+1):\n",
    "    if i%5==0:\n",
    "        print(i)"
   ]
  },
  {
   "cell_type": "code",
   "execution_count": 52,
   "metadata": {},
   "outputs": [
    {
     "name": "stdout",
     "output_type": "stream",
     "text": [
      "A\n",
      "B\n",
      "C\n",
      "D\n",
      "E\n",
      "F\n",
      "G\n",
      "H\n",
      "I\n",
      "J\n",
      "K\n",
      "L\n",
      "M\n",
      "N\n",
      "O\n",
      "P\n",
      "Q\n",
      "R\n",
      "S\n",
      "T\n",
      "U\n",
      "V\n",
      "W\n",
      "X\n",
      "Y\n",
      "Z\n"
     ]
    }
   ],
   "source": [
    "for ch in range(65,91):\n",
    "    print(chr(ch))"
   ]
  },
  {
   "cell_type": "code",
   "execution_count": 28,
   "metadata": {},
   "outputs": [
    {
     "name": "stdout",
     "output_type": "stream",
     "text": [
      "Enter Your Name:lokesh\n",
      "o\n",
      "e\n"
     ]
    }
   ],
   "source": [
    "name = input(\"Enter Your Name:\")\n",
    "for ch in name:\n",
    "    if ch==\"a\" or ch ==\"A\" or ch == \"e\" or ch==\"E\" or ch==\"i\" or ch==\"I\" or ch==\"O\" or ch==\"o\" or ch==\"u\" or ch==\"U\":\n",
    "        print(ch)"
   ]
  },
  {
   "cell_type": "code",
   "execution_count": 49,
   "metadata": {},
   "outputs": [
    {
     "name": "stdout",
     "output_type": "stream",
     "text": [
      "Enter any string:l o\n",
      "the total No of vowels =  1\n",
      "the total No of Constants =  1\n"
     ]
    }
   ],
   "source": [
    "string = input(\"Enter any string:\")\n",
    "cv = 0\n",
    "cc = 0\n",
    "for ch in string:\n",
    "    if ch.isalpha():\n",
    "        if ch==\"a\" or ch ==\"A\" or ch == \"e\" or ch==\"E\" or ch==\"i\" or ch==\"I\" or ch==\"O\" or ch==\"o\" or ch==\"u\" or ch==\"U\":\n",
    "            cv +=1\n",
    "        else:\n",
    "            cc += 1\n",
    "print(\"the total No of vowels = \",cv)\n",
    "print(\"the total No of Constants = \",cc)"
   ]
  },
  {
   "cell_type": "code",
   "execution_count": 31,
   "metadata": {},
   "outputs": [
    {
     "name": "stdout",
     "output_type": "stream",
     "text": [
      "Enter starting point:2\n",
      "Enter stop point:23\n",
      "2\n",
      "4\n",
      "6\n",
      "8\n",
      "10\n",
      "12\n",
      "14\n",
      "16\n",
      "18\n",
      "20\n",
      "22\n"
     ]
    }
   ],
   "source": [
    "n = int(input(\"Enter starting point:\"))\n",
    "n2 = int(input(\"Enter stop point:\"))\n",
    "for i in range(n,n2+1):\n",
    "    if i%2==0:\n",
    "        print(i)"
   ]
  },
  {
   "cell_type": "code",
   "execution_count": 47,
   "metadata": {},
   "outputs": [
    {
     "name": "stdout",
     "output_type": "stream",
     "text": [
      "Enter any Number:2\n",
      "1\n",
      "2\n",
      "The Total Factors of a given number =  2\n",
      "The sum of factors =  3\n"
     ]
    }
   ],
   "source": [
    "number = int(input(\"Enter any Number:\"))\n",
    "count = 0\n",
    "s = 0\n",
    "for i in range(1,number+1):\n",
    "    if number % i ==0:\n",
    "        count+=1\n",
    "        s = s+i\n",
    "        print(i)\n",
    "print(\"The Total Factors of a given number = \",count)\n",
    "print(\"The sum of factors = \",s)"
   ]
  },
  {
   "cell_type": "code",
   "execution_count": 37,
   "metadata": {},
   "outputs": [
    {
     "name": "stdout",
     "output_type": "stream",
     "text": [
      "Enter any number:5\n",
      "120\n"
     ]
    }
   ],
   "source": [
    "number = int(input(\"Enter any number:\"))\n",
    "fact =1\n",
    "for i in range(number,0,-1):\n",
    "    fact=fact*i\n",
    "print(fact)\n",
    "    "
   ]
  },
  {
   "cell_type": "code",
   "execution_count": 48,
   "metadata": {},
   "outputs": [
    {
     "name": "stdout",
     "output_type": "stream",
     "text": [
      "Enter any Number:2\n",
      "Given number is Prime\n"
     ]
    }
   ],
   "source": [
    "number = int(input(\"Enter any Number:\"))\n",
    "temp = 0\n",
    "for i in range(1,number+1):\n",
    "    if number % i == 0:\n",
    "        temp+=1\n",
    "if temp == 2:\n",
    "    print(\"Given number is Prime\")\n",
    "else:\n",
    "    print(\"Given number is not Prime\")"
   ]
  },
  {
   "cell_type": "code",
   "execution_count": 52,
   "metadata": {},
   "outputs": [
    {
     "name": "stdout",
     "output_type": "stream",
     "text": [
      "Enter any Number:28\n",
      "The given number is perfect number\n"
     ]
    }
   ],
   "source": [
    "#Perfect Number\n",
    "number = int(input(\"Enter any Number:\"))\n",
    "s = 0\n",
    "for i in range(1,number):\n",
    "    if number % i == 0:\n",
    "        s =s+i\n",
    "if s == number:\n",
    "    print(\"The given number is perfect number\")\n",
    "else:\n",
    "    print(\"the Given number is not perfect number\")"
   ]
  },
  {
   "cell_type": "code",
   "execution_count": 56,
   "metadata": {},
   "outputs": [
    {
     "name": "stdout",
     "output_type": "stream",
     "text": [
      "Enter any String:lok23@\n",
      "l\n",
      "o\n",
      "k\n",
      "1\n",
      "2\n",
      "1\n",
      "The total no.of vowels =  1\n",
      "The total no of consonants =  2\n",
      "The total no of special characters =  1\n",
      "The total no of numbers =  2\n"
     ]
    }
   ],
   "source": [
    "string = input(\"Enter any String:\")\n",
    "cv = 0\n",
    "cc = 0\n",
    "cs = 0\n",
    "cn = 0\n",
    "\n",
    "for ch in string:\n",
    "    if ch.isalpha():\n",
    "        if ch in 'aeiouAEIOU':\n",
    "            cv = cv+1\n",
    "            print(ch)\n",
    "        else:\n",
    "            cc = cc+1\n",
    "            print(ch)\n",
    "    elif ch.isdigit():\n",
    "        cn = cn + 1\n",
    "        print(cn)\n",
    "    else:\n",
    "        cs = cs +1\n",
    "        print(cs)\n",
    "print(\"The total no.of vowels = \",cv)\n",
    "print(\"The total no of consonants = \",cc)\n",
    "print(\"The total no of special characters = \",cs)\n",
    "print(\"The total no of numbers = \",cn)"
   ]
  },
  {
   "cell_type": "code",
   "execution_count": 55,
   "metadata": {},
   "outputs": [
    {
     "data": {
      "text/plain": [
       "65"
      ]
     },
     "execution_count": 55,
     "metadata": {},
     "output_type": "execute_result"
    }
   ],
   "source": [
    "ord('A')"
   ]
  },
  {
   "cell_type": "code",
   "execution_count": 57,
   "metadata": {},
   "outputs": [
    {
     "name": "stdout",
     "output_type": "stream",
     "text": [
      "Enter any string:AB\n",
      "131\n"
     ]
    }
   ],
   "source": [
    "string = input(\"Enter any string:\")\n",
    "s = 0\n",
    "for ch in string:\n",
    "    asci = ord(ch)\n",
    "    s = s + asci\n",
    "print(s)"
   ]
  },
  {
   "cell_type": "code",
   "execution_count": 60,
   "metadata": {},
   "outputs": [
    {
     "name": "stdout",
     "output_type": "stream",
     "text": [
      "Enter upper boundary:20\n",
      "Enter Lower boundary:1\n",
      "Fizz\n",
      "Buzz\n",
      "Fizz\n",
      "Fizz\n",
      "Buzz\n",
      "Fizz\n",
      "Fizz\n",
      "Fizz & Buzz\n",
      "Fizz\n",
      "Buzz\n"
     ]
    }
   ],
   "source": [
    "up = int(input(\"Enter upper boundary:\"))\n",
    "lw = int(input(\"Enter Lower boundary:\"))\n",
    "\n",
    "for i in range(lw,up+1):\n",
    "    if i%3==0:\n",
    "        print(\"Fizz\")\n",
    "    elif i%5==0:\n",
    "        print(\"Buzz\")\n",
    "    ind i%5==0:f i%3==0 \n",
    "        print(\"Fizz & Buzz\")\n"
   ]
  },
  {
   "cell_type": "code",
   "execution_count": 64,
   "metadata": {},
   "outputs": [
    {
     "data": {
      "text/plain": [
       "200"
      ]
     },
     "execution_count": 64,
     "metadata": {},
     "output_type": "execute_result"
    }
   ],
   "source": [
    "ord('È')"
   ]
  },
  {
   "cell_type": "code",
   "execution_count": 67,
   "metadata": {},
   "outputs": [
    {
     "name": "stdout",
     "output_type": "stream",
     "text": [
      "100\n",
      "101\n",
      "102\n",
      "103\n",
      "104\n",
      "105\n",
      "106\n",
      "107\n",
      "108\n",
      "109\n",
      "110\n",
      "111\n",
      "112\n",
      "113\n",
      "114\n",
      "115\n",
      "116\n",
      "117\n",
      "118\n",
      "119\n",
      "120\n",
      "121\n",
      "122\n",
      "123\n",
      "124\n",
      "125\n",
      "126\n",
      "127\n",
      "128\n",
      "129\n",
      "130\n",
      "131\n",
      "132\n",
      "133\n",
      "134\n",
      "135\n",
      "136\n",
      "137\n",
      "138\n",
      "139\n",
      "140\n",
      "141\n",
      "142\n",
      "143\n",
      "144\n",
      "145\n",
      "146\n",
      "147\n",
      "148\n",
      "149\n",
      "150\n",
      "151\n",
      "152\n",
      "153\n",
      "154\n",
      "155\n",
      "156\n",
      "157\n",
      "158\n",
      "159\n",
      "160\n",
      "161\n",
      "162\n",
      "163\n",
      "164\n",
      "165\n",
      "166\n",
      "167\n",
      "168\n",
      "169\n",
      "170\n",
      "171\n",
      "172\n",
      "173\n",
      "174\n",
      "175\n",
      "176\n",
      "177\n",
      "178\n",
      "179\n",
      "180\n",
      "181\n",
      "182\n",
      "183\n",
      "184\n",
      "185\n",
      "186\n",
      "187\n",
      "188\n",
      "189\n",
      "190\n",
      "191\n",
      "192\n",
      "193\n",
      "194\n",
      "195\n",
      "196\n",
      "197\n",
      "198\n",
      "199\n"
     ]
    }
   ],
   "source": [
    "for i in range(ord('d'),ord('È')):\n",
    "    print(i)"
   ]
  },
  {
   "cell_type": "code",
   "execution_count": 69,
   "metadata": {},
   "outputs": [
    {
     "name": "stdout",
     "output_type": "stream",
     "text": [
      "1\n",
      "2\n",
      "3\n",
      "4\n",
      "5\n",
      "6\n",
      "7\n",
      "8\n",
      "9\n",
      "10\n",
      "11\n",
      "12\n",
      "13\n",
      "14\n",
      "15\n",
      "16\n",
      "17\n",
      "18\n",
      "19\n",
      "20\n",
      "21\n",
      "22\n",
      "23\n",
      "24\n",
      "25\n",
      "26\n",
      "27\n",
      "28\n",
      "29\n",
      "30\n",
      "31\n",
      "32\n",
      "33\n",
      "34\n",
      "35\n",
      "36\n",
      "37\n",
      "38\n",
      "39\n",
      "40\n",
      "41\n",
      "42\n",
      "43\n",
      "44\n",
      "45\n",
      "46\n",
      "47\n",
      "48\n",
      "49\n",
      "50\n",
      "51\n",
      "52\n",
      "53\n",
      "54\n",
      "55\n",
      "56\n",
      "57\n",
      "58\n",
      "59\n",
      "60\n",
      "61\n",
      "62\n",
      "63\n",
      "64\n",
      "65\n",
      "66\n",
      "67\n",
      "68\n",
      "69\n",
      "70\n",
      "71\n",
      "72\n",
      "73\n",
      "74\n",
      "75\n",
      "76\n",
      "77\n",
      "78\n",
      "79\n",
      "80\n",
      "81\n",
      "82\n",
      "83\n",
      "84\n",
      "85\n",
      "86\n",
      "87\n",
      "88\n",
      "89\n",
      "90\n",
      "91\n",
      "92\n",
      "93\n",
      "94\n",
      "95\n",
      "96\n",
      "97\n",
      "98\n",
      "99\n"
     ]
    }
   ],
   "source": [
    "start = ord('B')-ord('A')\n",
    "stop = ord('d')\n",
    "for i in range(start,stop):\n",
    "    print(i)"
   ]
  },
  {
   "cell_type": "code",
   "execution_count": 6,
   "metadata": {},
   "outputs": [
    {
     "name": "stdout",
     "output_type": "stream",
     "text": [
      "1\n",
      "2\n",
      "3\n",
      "4\n",
      "5\n",
      "6\n",
      "7\n",
      "8\n",
      "9\n",
      "10\n",
      "11\n",
      "12\n",
      "13\n",
      "14\n",
      "15\n",
      "16\n",
      "17\n",
      "18\n",
      "19\n",
      "20\n",
      "21\n",
      "22\n",
      "23\n",
      "24\n",
      "25\n",
      "26\n",
      "27\n",
      "28\n",
      "29\n",
      "30\n",
      "31\n",
      "32\n",
      "33\n",
      "34\n",
      "35\n",
      "36\n",
      "37\n",
      "38\n",
      "39\n",
      "40\n",
      "41\n",
      "42\n",
      "43\n",
      "44\n",
      "45\n",
      "46\n",
      "47\n",
      "48\n",
      "49\n",
      "50\n",
      "51\n",
      "52\n",
      "53\n",
      "54\n",
      "55\n",
      "56\n",
      "57\n",
      "58\n",
      "59\n",
      "60\n",
      "61\n",
      "62\n",
      "63\n",
      "64\n",
      "65\n",
      "66\n",
      "67\n",
      "68\n",
      "69\n",
      "70\n",
      "71\n",
      "72\n",
      "73\n",
      "74\n",
      "75\n",
      "76\n",
      "77\n",
      "78\n",
      "79\n",
      "80\n",
      "81\n",
      "82\n",
      "83\n",
      "84\n",
      "85\n",
      "86\n",
      "87\n",
      "88\n",
      "89\n",
      "90\n",
      "91\n",
      "92\n",
      "93\n",
      "94\n",
      "95\n",
      "96\n",
      "97\n",
      "98\n",
      "99\n",
      "100\n"
     ]
    }
   ],
   "source": [
    "n = True\n",
    "n2 = False\n",
    "n3 = int(n)\n",
    "n4 = int(n2)\n",
    "n5 = str(n3) + str(n4) + str(n3)\n",
    "for i in  range(int(n),int(n5)):\n",
    "    print(int(n))\n",
    "    n=n+True\n",
    "    "
   ]
  },
  {
   "cell_type": "code",
   "execution_count": 84,
   "metadata": {},
   "outputs": [
    {
     "name": "stdout",
     "output_type": "stream",
     "text": [
      "Enter Table:6\n",
      "Enter upto:10\n",
      "6 x 1 = 6\n",
      "6 x 2 = 12\n",
      "6 x 3 = 18\n",
      "6 x 4 = 24\n",
      "6 x 5 = 30\n",
      "6 x 6 = 36\n",
      "6 x 7 = 42\n",
      "6 x 8 = 48\n",
      "6 x 9 = 54\n",
      "6 x 10 = 60\n"
     ]
    }
   ],
   "source": [
    "tb_no = int(input(\"Enter Table:\"))\n",
    "upto = int(input(\"Enter upto:\"))\n",
    "i = 1\n",
    "while(i<=upto):\n",
    "    print(tb_no ,\"x\" ,i, \"=\",tb_no*i)\n",
    "    i+=1"
   ]
  },
  {
   "cell_type": "code",
   "execution_count": 4,
   "metadata": {},
   "outputs": [
    {
     "name": "stdout",
     "output_type": "stream",
     "text": [
      "Enter Your Range:20\n",
      "1\n",
      "3\n",
      "5\n",
      "7\n",
      "9\n",
      "11\n",
      "13\n",
      "15\n",
      "17\n",
      "19\n"
     ]
    }
   ],
   "source": [
    "n3 = int(input(\"Enter Your Range:\"))\n",
    "i = 1\n",
    "while(i<=n3):\n",
    "    if i%2!=0:\n",
    "        print(i)\n",
    "    i+=1"
   ]
  },
  {
   "cell_type": "code",
   "execution_count": 1,
   "metadata": {},
   "outputs": [
    {
     "name": "stdout",
     "output_type": "stream",
     "text": [
      "Enter any Number:2\n",
      "Total number of Factors = 2\n"
     ]
    }
   ],
   "source": [
    "i = 1\n",
    "count = 0\n",
    "number = int(input(\"Enter any Number:\"))\n",
    "while i<=number:\n",
    "    if number % i == 0:\n",
    "        count+=1\n",
    "    i+=1\n",
    "print(\"Total number of Factors =\",count)"
   ]
  },
  {
   "cell_type": "code",
   "execution_count": 1,
   "metadata": {},
   "outputs": [
    {
     "name": "stdout",
     "output_type": "stream",
     "text": [
      "Enter any Number:12345678\n",
      "Sum of cubes of even digits =  800\n"
     ]
    }
   ],
   "source": [
    "number2 = int(input(\"Enter any Number:\"))\n",
    "temp = number2\n",
    "s = 0\n",
    "while temp>0:\n",
    "    digit = temp % 10\n",
    "    if digit % 2==0:\n",
    "        s = s + digit ** 3\n",
    "    temp=temp//10\n",
    "print(\"Sum of cubes of even digits = \",s)"
   ]
  },
  {
   "cell_type": "code",
   "execution_count": 2,
   "metadata": {},
   "outputs": [
    {
     "name": "stdout",
     "output_type": "stream",
     "text": [
      "Enter any number:12345678\n",
      "the toal digits of a number are: 8\n"
     ]
    }
   ],
   "source": [
    "number3 = int(input(\"Enter any number:\"))\n",
    "c = 0\n",
    "while number3>0:\n",
    "    number3//=10\n",
    "    c+=1\n",
    "print(\"the toal digits of a number are:\",c)\n",
    "    "
   ]
  },
  {
   "cell_type": "code",
   "execution_count": 4,
   "metadata": {},
   "outputs": [
    {
     "name": "stdout",
     "output_type": "stream",
     "text": [
      "Enter any number:123456\n",
      "654321"
     ]
    }
   ],
   "source": [
    "number4 = int(input(\"Enter any number:\"))\n",
    "while number4>0:\n",
    "    temp = number4%10\n",
    "    print(temp,end=\"\")\n",
    "    number4=number4//10"
   ]
  },
  {
   "cell_type": "markdown",
   "metadata": {},
   "source": [
    "6543-->4"
   ]
  },
  {
   "cell_type": "code",
   "execution_count": 9,
   "metadata": {},
   "outputs": [
    {
     "name": "stdout",
     "output_type": "stream",
     "text": [
      "Enter any number:6543\n",
      "12\n",
      "16\n",
      "20\n",
      "24\n"
     ]
    }
   ],
   "source": [
    "number5 = int(input(\"Enter any number:\"))\n",
    "temp = number5\n",
    "length = 0\n",
    "while temp>0:\n",
    "    temp//=10\n",
    "    length+=1\n",
    "f =1\n",
    "while number5>0:\n",
    "    temp = number5%10\n",
    "    f = length*temp\n",
    "    print(f)\n",
    "    number5=number5//10"
   ]
  },
  {
   "cell_type": "code",
   "execution_count": 10,
   "metadata": {},
   "outputs": [
    {
     "name": "stdout",
     "output_type": "stream",
     "text": [
      "Enter any Number:24\n",
      "16\n",
      "4\n"
     ]
    }
   ],
   "source": [
    "number6 = int(input(\"Enter any Number:\"))\n",
    "s = 0\n",
    "temp = number6\n",
    "temp2 = number6\n",
    "while temp>0:\n",
    "    digit = temp %10\n",
    "    s = s + digit\n",
    "    temp = temp//10\n",
    "if s%2==0:\n",
    "    while temp2>0:\n",
    "        digit = temp2%10\n",
    "        print(digit**2)\n",
    "        temp2=temp2//10\n",
    "else:\n",
    "     while temp2>0:\n",
    "        digit = temp2%10\n",
    "        print(digit**3)\n",
    "        temp2=temp2//10"
   ]
  },
  {
   "cell_type": "code",
   "execution_count": 4,
   "metadata": {},
   "outputs": [
    {
     "name": "stdout",
     "output_type": "stream",
     "text": [
      "Enter n Value:5\n",
      "1\n",
      "2\n",
      "3\n",
      "5\n",
      "4\n",
      "The product of Numbers =  120\n"
     ]
    }
   ],
   "source": [
    "l=[]\n",
    "s = 0\n",
    "p = 1\n",
    "n = int(input(\"Enter n Value:\"))\n",
    "for i in range(n):\n",
    "    num = int(input())\n",
    "    l.append(num)\n",
    "if len(l)%2==0:\n",
    "    for i in l:\n",
    "        s = s+i\n",
    "    print(\"The sum of Numbers = \",s)\n",
    "else:\n",
    "    for i in l:\n",
    "        p = p*i\n",
    "    print(\"The product of Numbers = \",p)        "
   ]
  },
  {
   "cell_type": "code",
   "execution_count": 42,
   "metadata": {},
   "outputs": [
    {
     "name": "stdout",
     "output_type": "stream",
     "text": [
      "Enter Number:1\n",
      "Enter Number:2\n",
      "Enter Number:3\n",
      "Enter Number:N\n",
      "The product of Numbers =  6\n"
     ]
    }
   ],
   "source": [
    "s=0\n",
    "p=1\n",
    "temp = 0\n",
    "i = 'A'\n",
    "while (i!='N'):\n",
    "        i = input(\"Enter Number:\")\n",
    "        if i=='N':\n",
    "            break\n",
    "        temp +=1\n",
    "        p = p*int(i)\n",
    "        s= s+int(i)\n",
    "if temp % 2==0:\n",
    "    print(\"The sum of Numbers = \",s)\n",
    "else:\n",
    "    print(\"The product of Numbers = \",p)\n",
    "        \n",
    "        \n",
    "    "
   ]
  },
  {
   "cell_type": "markdown",
   "metadata": {},
   "source": [
    "### WAP to convert decimal number to binary"
   ]
  },
  {
   "cell_type": "code",
   "execution_count": 43,
   "metadata": {},
   "outputs": [
    {
     "name": "stdout",
     "output_type": "stream",
     "text": [
      "Enter any Number:10\n",
      "1010\n"
     ]
    }
   ],
   "source": [
    "dec = int(input(\"Enter any Number:\"))\n",
    "stri = ''\n",
    "while dec>0:\n",
    "    digit = dec%2\n",
    "    stri = str(digit) + stri\n",
    "    dec = dec//2\n",
    "print(stri)"
   ]
  },
  {
   "cell_type": "markdown",
   "metadata": {},
   "source": [
    "### WAP to convert decimal number to octal"
   ]
  },
  {
   "cell_type": "code",
   "execution_count": 37,
   "metadata": {},
   "outputs": [
    {
     "name": "stdout",
     "output_type": "stream",
     "text": [
      "Enter any decimal Number:10\n",
      "12\n"
     ]
    }
   ],
   "source": [
    "decimal = int(input(\"Enter any decimal Number:\"))\n",
    "stro = ''\n",
    "while decimal > 0:\n",
    "    digit = decimal%8\n",
    "    stro = str(digit)+stro\n",
    "    decimal = decimal//8\n",
    "print(stro)"
   ]
  },
  {
   "cell_type": "code",
   "execution_count": 39,
   "metadata": {},
   "outputs": [],
   "source": [
    "# WAP to convert decimal number to hexadecimal"
   ]
  },
  {
   "cell_type": "code",
   "execution_count": 49,
   "metadata": {},
   "outputs": [
    {
     "name": "stdout",
     "output_type": "stream",
     "text": [
      "Enter any number:1000\n",
      "3E8\n"
     ]
    }
   ],
   "source": [
    "d = int(input(\"Enter any number:\"))\n",
    "strh = ''\n",
    "while d>0:\n",
    "    digit = d % 16\n",
    "    if digit == 10:\n",
    "        digit = 'A'\n",
    "    elif digit == 11:\n",
    "        digit = 'B'\n",
    "    elif digit == 12:\n",
    "        digit = 'c'\n",
    "    elif digit == 13:\n",
    "        digit = 'D'\n",
    "    elif digit == 14:\n",
    "        digit = 'E'\n",
    "    elif digit ==15:\n",
    "        digit = 'F'\n",
    "    strh = str(digit)+strh\n",
    "    d = d//16\n",
    "print(strh)"
   ]
  }
 ],
 "metadata": {
  "kernelspec": {
   "display_name": "Python 3",
   "language": "python",
   "name": "python3"
  },
  "language_info": {
   "codemirror_mode": {
    "name": "ipython",
    "version": 3
   },
   "file_extension": ".py",
   "mimetype": "text/x-python",
   "name": "python",
   "nbconvert_exporter": "python",
   "pygments_lexer": "ipython3",
   "version": "3.7.4"
  }
 },
 "nbformat": 4,
 "nbformat_minor": 2
}
