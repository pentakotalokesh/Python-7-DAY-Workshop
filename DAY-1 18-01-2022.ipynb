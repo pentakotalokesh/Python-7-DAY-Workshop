{
 "cells": [
  {
   "cell_type": "code",
   "execution_count": 11,
   "metadata": {},
   "outputs": [
    {
     "name": "stdout",
     "output_type": "stream",
     "text": [
      "Hello World!\n"
     ]
    }
   ],
   "source": [
    "print(\"Hello\",\"World!\")"
   ]
  },
  {
   "cell_type": "code",
   "execution_count": 19,
   "metadata": {},
   "outputs": [
    {
     "name": "stdout",
     "output_type": "stream",
     "text": [
      "DIET College\n"
     ]
    }
   ],
   "source": [
    "print(\"DIET\",end=\" \")\n",
    "print(\"College\")"
   ]
  },
  {
   "cell_type": "code",
   "execution_count": 21,
   "metadata": {},
   "outputs": [
    {
     "name": "stdout",
     "output_type": "stream",
     "text": [
      "DIET COLLEGE\n"
     ]
    }
   ],
   "source": [
    "print(\"DIET\",\"COLLEGE\",sep=\" \")"
   ]
  },
  {
   "cell_type": "code",
   "execution_count": 28,
   "metadata": {},
   "outputs": [
    {
     "data": {
      "text/plain": [
       "str"
      ]
     },
     "execution_count": 28,
     "metadata": {},
     "output_type": "execute_result"
    }
   ],
   "source": [
    "a=\"Lokesh\"\n",
    "type(a)"
   ]
  },
  {
   "cell_type": "code",
   "execution_count": 51,
   "metadata": {},
   "outputs": [
    {
     "name": "stdout",
     "output_type": "stream",
     "text": [
      "<class 'str'> <class 'float'> <class 'int'>\n"
     ]
    }
   ],
   "source": [
    "a,b,c = \"Loki\",24.6,6\n",
    "print(type(a),type(b),type(c))"
   ]
  },
  {
   "cell_type": "code",
   "execution_count": 52,
   "metadata": {},
   "outputs": [
    {
     "data": {
      "text/plain": [
       "24"
      ]
     },
     "execution_count": 52,
     "metadata": {},
     "output_type": "execute_result"
    }
   ],
   "source": [
    "int(b)"
   ]
  },
  {
   "cell_type": "code",
   "execution_count": 53,
   "metadata": {},
   "outputs": [
    {
     "data": {
      "text/plain": [
       "float"
      ]
     },
     "execution_count": 53,
     "metadata": {},
     "output_type": "execute_result"
    }
   ],
   "source": [
    "type(b)"
   ]
  },
  {
   "cell_type": "code",
   "execution_count": 56,
   "metadata": {},
   "outputs": [
    {
     "name": "stdout",
     "output_type": "stream",
     "text": [
      "2 3\n",
      "5\n",
      "-1\n",
      "0.6666666666666666\n",
      "0\n",
      "2\n",
      "8\n"
     ]
    }
   ],
   "source": [
    "a,b = input().split()\n",
    "print(int(a)+int(b))\n",
    "print(int(a)-int(b))\n",
    "print(int(a)/int(b))\n",
    "print(int(a)//int(b))\n",
    "print(int(a)%int(b))\n",
    "print(int(a)**int(b))\n"
   ]
  },
  {
   "cell_type": "code",
   "execution_count": 58,
   "metadata": {},
   "outputs": [
    {
     "data": {
      "text/plain": [
       "'0b1100100'"
      ]
     },
     "execution_count": 58,
     "metadata": {},
     "output_type": "execute_result"
    }
   ],
   "source": [
    "bin(100)"
   ]
  },
  {
   "cell_type": "code",
   "execution_count": 74,
   "metadata": {},
   "outputs": [
    {
     "name": "stdout",
     "output_type": "stream",
     "text": [
      "Enter the Year:2022\n",
      "Not Leap Year\n"
     ]
    }
   ],
   "source": [
    "#WAP to Check Given Year is a Leap-Year or NOT\n",
    "\n",
    "\n",
    "year = int(input(\"Enter the Year:\"))\n",
    "\n",
    "if year%4==0:\n",
    "    if year%100 == 0:\n",
    "        if year%400 == 0:\n",
    "            print(\"leap Year\")\n",
    "        else:\n",
    "            print(\"not Leap Year\")\n",
    "    else:\n",
    "        print(\"Leap Year\")\n",
    "else:\n",
    "    print(\"Not Leap Year\")"
   ]
  },
  {
   "cell_type": "markdown",
   "metadata": {},
   "source": [
    "-WAP to check vote Eligibility and Display a msg like \"after n Years u can vote"
   ]
  },
  {
   "cell_type": "code",
   "execution_count": 78,
   "metadata": {},
   "outputs": [
    {
     "name": "stdout",
     "output_type": "stream",
     "text": [
      "Enter Your Age:16\n",
      "After 2 Years u can Vote\n"
     ]
    }
   ],
   "source": [
    "age = int(input(\"Enter Your Age:\"))\n",
    "\n",
    "if(age>18):\n",
    "    print(\"You are Eligible to vote\")\n",
    "else:\n",
    "    temp=18-age\n",
    "    print(\"After {0} Years u can Vote\".format(temp))"
   ]
  },
  {
   "cell_type": "markdown",
   "metadata": {},
   "source": [
    "- WAP to take two inputs from the user\n",
    "  - input1 : no of frnds\n",
    "  - input2 : no of pens\n",
    " - After Reading input Check Whether we can distribute equally or Not\n",
    " - if We Equally Distribute then print \"Successfully Distributed!!\"\n",
    " - else print the needed pens to do so"
   ]
  },
  {
   "cell_type": "code",
   "execution_count": 91,
   "metadata": {},
   "outputs": [
    {
     "name": "stdout",
     "output_type": "stream",
     "text": [
      "Enter No of Friends:21\n",
      "Enter No of Pens:10\n",
      "No.of pens required to distribute: 11\n"
     ]
    }
   ],
   "source": [
    "NF = int(input(\"Enter No of Friends:\"))\n",
    "NP = int(input(\"Enter No of Pens:\"))\n",
    "if NP%NF==0:\n",
    "    print(\"Successfully Distributed\")\n",
    "else:\n",
    "    temp = NP%NF\n",
    "    print(\"No.of pens required to distribute:\",NF-temp)"
   ]
  },
  {
   "cell_type": "markdown",
   "metadata": {},
   "source": [
    "- WAP to print max number Among Four numbers"
   ]
  },
  {
   "cell_type": "code",
   "execution_count": 96,
   "metadata": {},
   "outputs": [
    {
     "name": "stdout",
     "output_type": "stream",
     "text": [
      "Enter A:225\n",
      "Enter B:36\n",
      "Enter C:45\n",
      "Enter D:5555\n",
      "5555\n"
     ]
    }
   ],
   "source": [
    "a=int(input(\"Enter A:\"))\n",
    "b=int(input(\"Enter B:\"))\n",
    "c= int(input(\"Enter C:\"))\n",
    "d=int(input(\"Enter D:\"))\n",
    "if a>b and a>c and a>d:\n",
    "    print(a)\n",
    "elif b>c and b>d and b>a:\n",
    "    print(b)\n",
    "elif c>d and c>a and c>b:\n",
    "    print(c)\n",
    "else:\n",
    "    print(d)\n",
    "    \n",
    "    "
   ]
  },
  {
   "cell_type": "markdown",
   "metadata": {},
   "source": [
    "- WAP To Print grade based on marks\n",
    "  -A(90)\n",
    "  -B(75-90)\n",
    "  -c(60-75)\n",
    "  -D(40 above)\n",
    "  -Fail(40 below)"
   ]
  },
  {
   "cell_type": "code",
   "execution_count": 103,
   "metadata": {},
   "outputs": [
    {
     "name": "stdout",
     "output_type": "stream",
     "text": [
      "Enter Your Marks:101\n",
      "Marks Out of Score\n"
     ]
    }
   ],
   "source": [
    "Marks = int(input(\"Enter Your Marks:\"))\n",
    "if Marks>90 and Marks<=100:\n",
    "    print(\"A\")\n",
    "elif Marks>=75 and Marks<=90:\n",
    "    print(\"B\")\n",
    "elif Marks>=60 and Marks<=75:\n",
    "    print(\"C\")\n",
    "elif Marks>=40 and Marks<60:\n",
    "    print(\"D\")\n",
    "elif Marks<40:\n",
    "    print(\"FAIL\")\n",
    "else:\n",
    "    print(\"Marks Out of Score\")"
   ]
  },
  {
   "cell_type": "markdown",
   "metadata": {},
   "source": [
    "## USER CREDENTIALS VALIDATION"
   ]
  },
  {
   "cell_type": "code",
   "execution_count": 108,
   "metadata": {},
   "outputs": [
    {
     "name": "stdout",
     "output_type": "stream",
     "text": [
      "Enter username:Lokesh\n",
      "Enter Password:Lokesh\n",
      "Login Sucessful!!\n"
     ]
    }
   ],
   "source": [
    "users = [\"Lokesh\",\"Mani\"]\n",
    "Pass = [\"Lokesh\",\"Mani\"]\n",
    "user_Name = input(\"Enter username:\")\n",
    "Password = input(\"Enter Password:\")\n",
    "if user_Name in users:\n",
    "    if Password in Pass:\n",
    "        print(\"Login Sucessful!!\")\n",
    "    else:\n",
    "        print(\"wrong Password\")\n",
    "else:\n",
    "    print(\"INVALID CREDENTIALS!!\")"
   ]
  },
  {
   "cell_type": "code",
   "execution_count": null,
   "metadata": {},
   "outputs": [],
   "source": []
  }
 ],
 "metadata": {
  "kernelspec": {
   "display_name": "Python 3",
   "language": "python",
   "name": "python3"
  },
  "language_info": {
   "codemirror_mode": {
    "name": "ipython",
    "version": 3
   },
   "file_extension": ".py",
   "mimetype": "text/x-python",
   "name": "python",
   "nbconvert_exporter": "python",
   "pygments_lexer": "ipython3",
   "version": "3.7.4"
  }
 },
 "nbformat": 4,
 "nbformat_minor": 2
}
